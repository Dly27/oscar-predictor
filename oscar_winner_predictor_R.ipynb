{
  "nbformat": 4,
  "nbformat_minor": 0,
  "metadata": {
    "colab": {
      "provenance": [],
      "collapsed_sections": [
        "-XQ8PzcvDDMJ",
        "spR2zHrs5OAY",
        "SxZQbu0v5Pyn",
        "d1V44B5n5Seg",
        "ZCTcetnrA_PS",
        "oxkJlt7j5QWg"
      ],
      "toc_visible": true,
      "authorship_tag": "ABX9TyM2bwIvQUsx7W1Xlzf8FmOZ",
      "include_colab_link": true
    },
    "kernelspec": {
      "name": "ir",
      "display_name": "R"
    },
    "language_info": {
      "name": "R"
    }
  },
  "cells": [
    {
      "cell_type": "markdown",
      "metadata": {
        "id": "view-in-github",
        "colab_type": "text"
      },
      "source": [
        "<a href=\"https://colab.research.google.com/github/Dly27/oscar-predictor/blob/main/oscar_winner_predictor_R.ipynb\" target=\"_parent\"><img src=\"https://colab.research.google.com/assets/colab-badge.svg\" alt=\"Open In Colab\"/></a>"
      ]
    },
    {
      "cell_type": "markdown",
      "source": [
        "# Package installation"
      ],
      "metadata": {
        "id": "EijLvdoM5eTS"
      }
    },
    {
      "cell_type": "code",
      "execution_count": 1,
      "metadata": {
        "id": "kWPS_MLP4Mgy",
        "colab": {
          "base_uri": "https://localhost:8080/"
        },
        "outputId": "bf93a3ad-3a86-4cd0-fd33-9bff5d925e51"
      },
      "outputs": [
        {
          "output_type": "stream",
          "name": "stderr",
          "text": [
            "Loading required package: scales\n",
            "\n",
            "Loading required package: caret\n",
            "\n",
            "Warning message in library(package, lib.loc = lib.loc, character.only = TRUE, logical.return = TRUE, :\n",
            "“there is no package called ‘caret’”\n",
            "Installing package into ‘/usr/local/lib/R/site-library’\n",
            "(as ‘lib’ is unspecified)\n",
            "\n",
            "also installing the dependencies ‘listenv’, ‘parallelly’, ‘future’, ‘globals’, ‘shape’, ‘future.apply’, ‘numDeriv’, ‘progressr’, ‘SQUAREM’, ‘diagram’, ‘lava’, ‘prodlim’, ‘proxy’, ‘iterators’, ‘clock’, ‘gower’, ‘hardhat’, ‘ipred’, ‘sparsevctrs’, ‘timeDate’, ‘e1071’, ‘foreach’, ‘ModelMetrics’, ‘plyr’, ‘pROC’, ‘recipes’, ‘reshape2’\n",
            "\n",
            "\n",
            "Loading required package: car\n",
            "\n",
            "Warning message in library(package, lib.loc = lib.loc, character.only = TRUE, logical.return = TRUE, :\n",
            "“there is no package called ‘car’”\n",
            "Installing package into ‘/usr/local/lib/R/site-library’\n",
            "(as ‘lib’ is unspecified)\n",
            "\n",
            "also installing the dependencies ‘rbibutils’, ‘cowplot’, ‘Deriv’, ‘microbenchmark’, ‘Rdpack’, ‘doBy’, ‘SparseM’, ‘MatrixModels’, ‘minqa’, ‘nloptr’, ‘reformulas’, ‘RcppEigen’, ‘carData’, ‘abind’, ‘Formula’, ‘pbkrtest’, ‘quantreg’, ‘lme4’\n",
            "\n",
            "\n",
            "Loading required package: pROC\n",
            "\n",
            "Type 'citation(\"pROC\")' for a citation.\n",
            "\n",
            "\n",
            "Attaching package: ‘pROC’\n",
            "\n",
            "\n",
            "The following objects are masked from ‘package:stats’:\n",
            "\n",
            "    cov, smooth, var\n",
            "\n",
            "\n"
          ]
        }
      ],
      "source": [
        "if (!require(scales)) install.packages(\"scales\")\n",
        "if (!require(caret)) install.packages(\"caret\")\n",
        "if (!require(car)) install.packages(\"car\")\n",
        "if (!require(pROC)) install.packages(\"pROC\")"
      ]
    },
    {
      "cell_type": "markdown",
      "source": [
        "# Import libraries"
      ],
      "metadata": {
        "id": "-XQ8PzcvDDMJ"
      }
    },
    {
      "cell_type": "code",
      "source": [
        "library(pROC)\n",
        "library(car)\n",
        "library(scales)\n",
        "library(caret)"
      ],
      "metadata": {
        "id": "oP50U6wnDNQi",
        "colab": {
          "base_uri": "https://localhost:8080/"
        },
        "outputId": "410db913-f588-4e86-a682-e1da8f988bb6"
      },
      "execution_count": 2,
      "outputs": [
        {
          "output_type": "stream",
          "name": "stderr",
          "text": [
            "Loading required package: carData\n",
            "\n",
            "Loading required package: ggplot2\n",
            "\n",
            "Loading required package: lattice\n",
            "\n"
          ]
        }
      ]
    },
    {
      "cell_type": "markdown",
      "source": [
        "# Data preparation"
      ],
      "metadata": {
        "id": "spR2zHrs5OAY"
      }
    },
    {
      "source": [
        "# Load data\n",
        "data <- read.csv(\"/content/oscars.csv\", header=TRUE)\n",
        "\n",
        "# Remove values to predict\n",
        "train_test_data <- data[-(1:10), ]\n",
        "\n",
        "# Rescale predictors\n",
        "train_test_data$Ch <- ifelse(train_test_data$Ch == 1, 1, 0)\n",
        "train_test_data$WR<- train_test_data$WR / 10\n",
        "train_test_data$Ebert <- train_test_data$Ebert / 4\n",
        "for (col in c(\"Nom\", \"Length\", \"Days\")) {\n",
        "  train_test_data[[col]] <- rescale(train_test_data[[col]])}\n",
        "\n",
        "# Split data into training and testing sets (80% training, 20% test)\n",
        "set.seed(123)\n",
        "train_test_index <- createDataPartition(train_test_data$Ch, p = 0.8, list = FALSE)\n",
        "\n",
        "# Create the training and test sets\n",
        "train_data <- train_test_data[train_test_index, ]\n",
        "test_data <- train_test_data[-train_test_index, ]\n"
      ],
      "cell_type": "code",
      "metadata": {
        "id": "R_va9t7NJQL2"
      },
      "execution_count": 10,
      "outputs": []
    },
    {
      "cell_type": "markdown",
      "source": [
        "# Fit full model"
      ],
      "metadata": {
        "id": "SxZQbu0v5Pyn"
      }
    },
    {
      "cell_type": "code",
      "source": [
        "full_model <- glm(Ch ~ . -Year -Name -Pic -Anf, data = train_data, family = binomial )\n",
        "summary(full_model)"
      ],
      "metadata": {
        "id": "68BDRGB-4iOd",
        "colab": {
          "base_uri": "https://localhost:8080/",
          "height": 1000
        },
        "outputId": "cf7353f0-dd01-4835-a26f-4c6b94e01061"
      },
      "execution_count": 11,
      "outputs": [
        {
          "output_type": "display_data",
          "data": {
            "text/plain": [
              "\n",
              "Call:\n",
              "glm(formula = Ch ~ . - Year - Name - Pic - Anf, family = binomial, \n",
              "    data = train_data)\n",
              "\n",
              "Coefficients:\n",
              "              Estimate Std. Error z value Pr(>|z|)    \n",
              "(Intercept)  -10.93047    3.99967  -2.733  0.00628 ** \n",
              "Nom            1.81402    6.12440   0.296  0.76708    \n",
              "Dir            1.72168    0.81968   2.100  0.03569 *  \n",
              "Aml           -0.49533    0.62685  -0.790  0.42942    \n",
              "Afl            0.03678    0.72102   0.051  0.95932    \n",
              "Ams            0.40548    0.57710   0.703  0.48230    \n",
              "Afs           -0.28542    0.65734  -0.434  0.66414    \n",
              "Scr            0.88444    0.81614   1.084  0.27851    \n",
              "Cin            0.22110    0.68120   0.325  0.74550    \n",
              "Art           -0.51191    0.77826  -0.658  0.51069    \n",
              "Cos           -0.85891    0.84341  -1.018  0.30850    \n",
              "Sco            0.08391    0.63531   0.132  0.89493    \n",
              "Son           -0.25362    1.05735  -0.240  0.81043    \n",
              "Edi            1.44742    0.69821   2.073  0.03817 *  \n",
              "Sou           -0.91281    0.84534  -1.080  0.28022    \n",
              "For            1.07260    1.64585   0.652  0.51460    \n",
              "Eff            0.27324    0.80869   0.338  0.73545    \n",
              "Mak            1.29974    1.18147   1.100  0.27129    \n",
              "Dan            2.27567    1.72872   1.316  0.18804    \n",
              "AD           -14.66801 1873.31541  -0.008  0.99375    \n",
              "Gdr            1.80887    0.60044   3.013  0.00259 ** \n",
              "Gmc           -0.34854    0.92289  -0.378  0.70568    \n",
              "Gd            -6.31264    2.70667  -2.332  0.01969 *  \n",
              "Gm1            2.00093    1.47519   1.356  0.17497    \n",
              "Gm2           -0.70320    5.30486  -0.133  0.89454    \n",
              "Gf1           -0.54817    3.05590  -0.179  0.85764    \n",
              "Gf2          -14.04233 2983.93596  -0.005  0.99625    \n",
              "PGA            4.54499    0.80183   5.668 1.44e-08 ***\n",
              "DGA            2.94715    1.75379   1.680  0.09287 .  \n",
              "Action        -0.62439    1.02234  -0.611  0.54137    \n",
              "Adventure     -0.32504    0.99519  -0.327  0.74396    \n",
              "Animation    -11.73464 3705.10004  -0.003  0.99747    \n",
              "Biography     -1.35018    0.85979  -1.570  0.11633    \n",
              "Comedy        -0.24618    0.65811  -0.374  0.70835    \n",
              "Crime          1.46887    0.80964   1.814  0.06965 .  \n",
              "Docu         -14.53467 6522.63882  -0.002  0.99822    \n",
              "Drama         -1.24015    0.83230  -1.490  0.13622    \n",
              "Family         1.37783    1.15941   1.188  0.23468    \n",
              "Fantasy       -2.02139    1.80007  -1.123  0.26146    \n",
              "Film.noir     -1.00464    1.73441  -0.579  0.56243    \n",
              "History        1.14926    0.90794   1.266  0.20559    \n",
              "Horror         0.66726    3.62629   0.184  0.85401    \n",
              "Music          1.30054    1.16829   1.113  0.26562    \n",
              "Musical        1.74144    1.07164   1.625  0.10416    \n",
              "Mystery        1.13990    0.88163   1.293  0.19603    \n",
              "Romance        0.78406    0.55184   1.421  0.15537    \n",
              "SciFi         -2.14158    1.99595  -1.073  0.28329    \n",
              "Sport          0.53602    1.41050   0.380  0.70393    \n",
              "Thriller      -1.27319    0.88267  -1.442  0.14918    \n",
              "War            1.11400    0.78732   1.415  0.15709    \n",
              "Western       -1.04485    1.32275  -0.790  0.42958    \n",
              "Length         0.15319    1.67041   0.092  0.92693    \n",
              "Days           3.15338    1.65291   1.908  0.05642 .  \n",
              "G             -1.73156    2.27605  -0.761  0.44679    \n",
              "PG            -1.29726    0.85907  -1.510  0.13103    \n",
              "PG13          -1.22365    1.07668  -1.136  0.25575    \n",
              "R             -2.14012    0.99089  -2.160  0.03079 *  \n",
              "U            -15.31193 3628.22802  -0.004  0.99663    \n",
              "Ebert          0.37560    0.87250   0.430  0.66684    \n",
              "NYFCC         -0.71246    0.66453  -1.072  0.28366    \n",
              "LAFCA         -0.87738    0.95073  -0.923  0.35609    \n",
              "NSFC           2.58633    1.02857   2.514  0.01192 *  \n",
              "NBR            0.71841    0.58857   1.221  0.22224    \n",
              "WR             5.98860    5.42345   1.104  0.26950    \n",
              "---\n",
              "Signif. codes:  0 ‘***’ 0.001 ‘**’ 0.01 ‘*’ 0.05 ‘.’ 0.1 ‘ ’ 1\n",
              "\n",
              "(Dispersion parameter for binomial family taken to be 1)\n",
              "\n",
              "    Null deviance: 407.10  on 483  degrees of freedom\n",
              "Residual deviance: 174.24  on 420  degrees of freedom\n",
              "AIC: 302.24\n",
              "\n",
              "Number of Fisher Scoring iterations: 17\n"
            ]
          },
          "metadata": {}
        }
      ]
    },
    {
      "cell_type": "markdown",
      "source": [
        "# Calculate confidence intervals"
      ],
      "metadata": {
        "id": "d1V44B5n5Seg"
      }
    },
    {
      "cell_type": "code",
      "source": [
        "suppressWarnings(confint(full_model))"
      ],
      "metadata": {
        "id": "vvCUXcvZ4knN",
        "colab": {
          "base_uri": "https://localhost:8080/",
          "height": 1000
        },
        "outputId": "c22c9a09-8bf1-4689-d483-ac11efe08294"
      },
      "execution_count": 12,
      "outputs": [
        {
          "output_type": "stream",
          "name": "stderr",
          "text": [
            "Waiting for profiling to be done...\n",
            "\n"
          ]
        },
        {
          "output_type": "display_data",
          "data": {
            "text/html": [
              "<table class=\"dataframe\">\n",
              "<caption>A matrix: 64 × 2 of type dbl</caption>\n",
              "<thead>\n",
              "\t<tr><th></th><th scope=col>2.5 %</th><th scope=col>97.5 %</th></tr>\n",
              "</thead>\n",
              "<tbody>\n",
              "\t<tr><th scope=row>(Intercept)</th><td> -19.1521676</td><td> -3.3783552</td></tr>\n",
              "\t<tr><th scope=row>Nom</th><td> -11.2259071</td><td> 13.5588029</td></tr>\n",
              "\t<tr><th scope=row>Dir</th><td>   0.1951741</td><td>  3.4556821</td></tr>\n",
              "\t<tr><th scope=row>Aml</th><td>  -1.7304598</td><td>  0.7685618</td></tr>\n",
              "\t<tr><th scope=row>Afl</th><td>  -1.3743303</td><td>  1.4815254</td></tr>\n",
              "\t<tr><th scope=row>Ams</th><td>  -0.7091538</td><td>  1.5941985</td></tr>\n",
              "\t<tr><th scope=row>Afs</th><td>  -1.5837208</td><td>  1.0344024</td></tr>\n",
              "\t<tr><th scope=row>Scr</th><td>  -0.6814095</td><td>  2.5619538</td></tr>\n",
              "\t<tr><th scope=row>Cin</th><td>  -1.1034298</td><td>  1.5999448</td></tr>\n",
              "\t<tr><th scope=row>Art</th><td>  -2.0432315</td><td>  1.0460378</td></tr>\n",
              "\t<tr><th scope=row>Cos</th><td>  -2.5697306</td><td>  0.7865150</td></tr>\n",
              "\t<tr><th scope=row>Sco</th><td>  -1.1595178</td><td>  1.3677027</td></tr>\n",
              "\t<tr><th scope=row>Son</th><td>  -2.4265221</td><td>  1.7794131</td></tr>\n",
              "\t<tr><th scope=row>Edi</th><td>   0.1183147</td><td>  2.8861481</td></tr>\n",
              "\t<tr><th scope=row>Sou</th><td>  -2.6118286</td><td>  0.7337176</td></tr>\n",
              "\t<tr><th scope=row>For</th><td>  -2.5589568</td><td>  4.1947824</td></tr>\n",
              "\t<tr><th scope=row>Eff</th><td>  -1.3404626</td><td>  1.8552417</td></tr>\n",
              "\t<tr><th scope=row>Mak</th><td>  -0.9543140</td><td>  3.7020816</td></tr>\n",
              "\t<tr><th scope=row>Dan</th><td>  -1.2297742</td><td>  5.7320177</td></tr>\n",
              "\t<tr><th scope=row>AD</th><td>-677.2048487</td><td> 57.1096349</td></tr>\n",
              "\t<tr><th scope=row>Gdr</th><td>   0.6545473</td><td>  3.0288638</td></tr>\n",
              "\t<tr><th scope=row>Gmc</th><td>  -2.2009027</td><td>  1.4461079</td></tr>\n",
              "\t<tr><th scope=row>Gd</th><td> -12.3566932</td><td> -1.4808744</td></tr>\n",
              "\t<tr><th scope=row>Gm1</th><td>  -1.2306467</td><td>  4.7791717</td></tr>\n",
              "\t<tr><th scope=row>Gm2</th><td>  -8.5503303</td><td>  5.6948927</td></tr>\n",
              "\t<tr><th scope=row>Gf1</th><td>  -6.8125738</td><td>  5.4920029</td></tr>\n",
              "\t<tr><th scope=row>Gf2</th><td>-960.5883712</td><td>120.1353412</td></tr>\n",
              "\t<tr><th scope=row>PGA</th><td>   3.1038925</td><td>  6.2791444</td></tr>\n",
              "\t<tr><th scope=row>DGA</th><td>  -0.2128176</td><td>  7.0512983</td></tr>\n",
              "\t<tr><th scope=row>Action</th><td>  -2.6896710</td><td>  1.3732920</td></tr>\n",
              "\t<tr><th scope=row>⋮</th><td>⋮</td><td>⋮</td></tr>\n",
              "\t<tr><th scope=row>Crime</th><td>   -0.1122473</td><td>   3.0909845</td></tr>\n",
              "\t<tr><th scope=row>Docu</th><td>           NA</td><td>1297.9237658</td></tr>\n",
              "\t<tr><th scope=row>Drama</th><td>   -2.8873580</td><td>   0.4023893</td></tr>\n",
              "\t<tr><th scope=row>Family</th><td>   -1.0301643</td><td>   3.5703717</td></tr>\n",
              "\t<tr><th scope=row>Fantasy</th><td>   -5.8738902</td><td>   1.0959453</td></tr>\n",
              "\t<tr><th scope=row>Film.noir</th><td>   -4.9888097</td><td>   1.8905140</td></tr>\n",
              "\t<tr><th scope=row>History</th><td>   -0.7258222</td><td>   2.8943223</td></tr>\n",
              "\t<tr><th scope=row>Horror</th><td>   -5.2633298</td><td>   6.0184038</td></tr>\n",
              "\t<tr><th scope=row>Music</th><td>   -1.0762443</td><td>   3.5327609</td></tr>\n",
              "\t<tr><th scope=row>Musical</th><td>   -0.4130511</td><td>   3.8426487</td></tr>\n",
              "\t<tr><th scope=row>Mystery</th><td>   -0.6726741</td><td>   2.8410147</td></tr>\n",
              "\t<tr><th scope=row>Romance</th><td>   -0.2877822</td><td>   1.8942212</td></tr>\n",
              "\t<tr><th scope=row>SciFi</th><td>   -7.5742726</td><td>   1.2910891</td></tr>\n",
              "\t<tr><th scope=row>Sport</th><td>   -2.5360883</td><td>   3.1216148</td></tr>\n",
              "\t<tr><th scope=row>Thriller</th><td>   -3.0848665</td><td>   0.4058540</td></tr>\n",
              "\t<tr><th scope=row>War</th><td>   -0.4426168</td><td>   2.6639666</td></tr>\n",
              "\t<tr><th scope=row>Western</th><td>   -3.9023415</td><td>   1.3464684</td></tr>\n",
              "\t<tr><th scope=row>Length</th><td>   -3.2064955</td><td>   3.3900696</td></tr>\n",
              "\t<tr><th scope=row>Days</th><td>   -0.0199586</td><td>   6.5129441</td></tr>\n",
              "\t<tr><th scope=row>G</th><td>   -6.7343749</td><td>   2.1632915</td></tr>\n",
              "\t<tr><th scope=row>PG</th><td>   -3.0647262</td><td>   0.3358689</td></tr>\n",
              "\t<tr><th scope=row>PG13</th><td>   -3.4369097</td><td>   0.8151368</td></tr>\n",
              "\t<tr><th scope=row>R</th><td>   -4.1976577</td><td>  -0.2813731</td></tr>\n",
              "\t<tr><th scope=row>U</th><td>-1223.0524318</td><td> 137.4724292</td></tr>\n",
              "\t<tr><th scope=row>Ebert</th><td>   -1.3590739</td><td>   2.0951613</td></tr>\n",
              "\t<tr><th scope=row>NYFCC</th><td>   -2.0744027</td><td>   0.5465515</td></tr>\n",
              "\t<tr><th scope=row>LAFCA</th><td>   -2.7786220</td><td>   0.9648142</td></tr>\n",
              "\t<tr><th scope=row>NSFC</th><td>    0.6256588</td><td>   4.6997039</td></tr>\n",
              "\t<tr><th scope=row>NBR</th><td>   -0.4547082</td><td>   1.8704228</td></tr>\n",
              "\t<tr><th scope=row>WR</th><td>   -4.6065034</td><td>  16.7861228</td></tr>\n",
              "</tbody>\n",
              "</table>\n"
            ],
            "text/markdown": "\nA matrix: 64 × 2 of type dbl\n\n| <!--/--> | 2.5 % | 97.5 % |\n|---|---|---|\n| (Intercept) |  -19.1521676 |  -3.3783552 |\n| Nom |  -11.2259071 |  13.5588029 |\n| Dir |    0.1951741 |   3.4556821 |\n| Aml |   -1.7304598 |   0.7685618 |\n| Afl |   -1.3743303 |   1.4815254 |\n| Ams |   -0.7091538 |   1.5941985 |\n| Afs |   -1.5837208 |   1.0344024 |\n| Scr |   -0.6814095 |   2.5619538 |\n| Cin |   -1.1034298 |   1.5999448 |\n| Art |   -2.0432315 |   1.0460378 |\n| Cos |   -2.5697306 |   0.7865150 |\n| Sco |   -1.1595178 |   1.3677027 |\n| Son |   -2.4265221 |   1.7794131 |\n| Edi |    0.1183147 |   2.8861481 |\n| Sou |   -2.6118286 |   0.7337176 |\n| For |   -2.5589568 |   4.1947824 |\n| Eff |   -1.3404626 |   1.8552417 |\n| Mak |   -0.9543140 |   3.7020816 |\n| Dan |   -1.2297742 |   5.7320177 |\n| AD | -677.2048487 |  57.1096349 |\n| Gdr |    0.6545473 |   3.0288638 |\n| Gmc |   -2.2009027 |   1.4461079 |\n| Gd |  -12.3566932 |  -1.4808744 |\n| Gm1 |   -1.2306467 |   4.7791717 |\n| Gm2 |   -8.5503303 |   5.6948927 |\n| Gf1 |   -6.8125738 |   5.4920029 |\n| Gf2 | -960.5883712 | 120.1353412 |\n| PGA |    3.1038925 |   6.2791444 |\n| DGA |   -0.2128176 |   7.0512983 |\n| Action |   -2.6896710 |   1.3732920 |\n| ⋮ | ⋮ | ⋮ |\n| Crime |    -0.1122473 |    3.0909845 |\n| Docu |            NA | 1297.9237658 |\n| Drama |    -2.8873580 |    0.4023893 |\n| Family |    -1.0301643 |    3.5703717 |\n| Fantasy |    -5.8738902 |    1.0959453 |\n| Film.noir |    -4.9888097 |    1.8905140 |\n| History |    -0.7258222 |    2.8943223 |\n| Horror |    -5.2633298 |    6.0184038 |\n| Music |    -1.0762443 |    3.5327609 |\n| Musical |    -0.4130511 |    3.8426487 |\n| Mystery |    -0.6726741 |    2.8410147 |\n| Romance |    -0.2877822 |    1.8942212 |\n| SciFi |    -7.5742726 |    1.2910891 |\n| Sport |    -2.5360883 |    3.1216148 |\n| Thriller |    -3.0848665 |    0.4058540 |\n| War |    -0.4426168 |    2.6639666 |\n| Western |    -3.9023415 |    1.3464684 |\n| Length |    -3.2064955 |    3.3900696 |\n| Days |    -0.0199586 |    6.5129441 |\n| G |    -6.7343749 |    2.1632915 |\n| PG |    -3.0647262 |    0.3358689 |\n| PG13 |    -3.4369097 |    0.8151368 |\n| R |    -4.1976577 |   -0.2813731 |\n| U | -1223.0524318 |  137.4724292 |\n| Ebert |    -1.3590739 |    2.0951613 |\n| NYFCC |    -2.0744027 |    0.5465515 |\n| LAFCA |    -2.7786220 |    0.9648142 |\n| NSFC |     0.6256588 |    4.6997039 |\n| NBR |    -0.4547082 |    1.8704228 |\n| WR |    -4.6065034 |   16.7861228 |\n\n",
            "text/latex": "A matrix: 64 × 2 of type dbl\n\\begin{tabular}{r|ll}\n  & 2.5 \\% & 97.5 \\%\\\\\n\\hline\n\t(Intercept) &  -19.1521676 &  -3.3783552\\\\\n\tNom &  -11.2259071 &  13.5588029\\\\\n\tDir &    0.1951741 &   3.4556821\\\\\n\tAml &   -1.7304598 &   0.7685618\\\\\n\tAfl &   -1.3743303 &   1.4815254\\\\\n\tAms &   -0.7091538 &   1.5941985\\\\\n\tAfs &   -1.5837208 &   1.0344024\\\\\n\tScr &   -0.6814095 &   2.5619538\\\\\n\tCin &   -1.1034298 &   1.5999448\\\\\n\tArt &   -2.0432315 &   1.0460378\\\\\n\tCos &   -2.5697306 &   0.7865150\\\\\n\tSco &   -1.1595178 &   1.3677027\\\\\n\tSon &   -2.4265221 &   1.7794131\\\\\n\tEdi &    0.1183147 &   2.8861481\\\\\n\tSou &   -2.6118286 &   0.7337176\\\\\n\tFor &   -2.5589568 &   4.1947824\\\\\n\tEff &   -1.3404626 &   1.8552417\\\\\n\tMak &   -0.9543140 &   3.7020816\\\\\n\tDan &   -1.2297742 &   5.7320177\\\\\n\tAD & -677.2048487 &  57.1096349\\\\\n\tGdr &    0.6545473 &   3.0288638\\\\\n\tGmc &   -2.2009027 &   1.4461079\\\\\n\tGd &  -12.3566932 &  -1.4808744\\\\\n\tGm1 &   -1.2306467 &   4.7791717\\\\\n\tGm2 &   -8.5503303 &   5.6948927\\\\\n\tGf1 &   -6.8125738 &   5.4920029\\\\\n\tGf2 & -960.5883712 & 120.1353412\\\\\n\tPGA &    3.1038925 &   6.2791444\\\\\n\tDGA &   -0.2128176 &   7.0512983\\\\\n\tAction &   -2.6896710 &   1.3732920\\\\\n\t⋮ & ⋮ & ⋮\\\\\n\tCrime &    -0.1122473 &    3.0909845\\\\\n\tDocu &            NA & 1297.9237658\\\\\n\tDrama &    -2.8873580 &    0.4023893\\\\\n\tFamily &    -1.0301643 &    3.5703717\\\\\n\tFantasy &    -5.8738902 &    1.0959453\\\\\n\tFilm.noir &    -4.9888097 &    1.8905140\\\\\n\tHistory &    -0.7258222 &    2.8943223\\\\\n\tHorror &    -5.2633298 &    6.0184038\\\\\n\tMusic &    -1.0762443 &    3.5327609\\\\\n\tMusical &    -0.4130511 &    3.8426487\\\\\n\tMystery &    -0.6726741 &    2.8410147\\\\\n\tRomance &    -0.2877822 &    1.8942212\\\\\n\tSciFi &    -7.5742726 &    1.2910891\\\\\n\tSport &    -2.5360883 &    3.1216148\\\\\n\tThriller &    -3.0848665 &    0.4058540\\\\\n\tWar &    -0.4426168 &    2.6639666\\\\\n\tWestern &    -3.9023415 &    1.3464684\\\\\n\tLength &    -3.2064955 &    3.3900696\\\\\n\tDays &    -0.0199586 &    6.5129441\\\\\n\tG &    -6.7343749 &    2.1632915\\\\\n\tPG &    -3.0647262 &    0.3358689\\\\\n\tPG13 &    -3.4369097 &    0.8151368\\\\\n\tR &    -4.1976577 &   -0.2813731\\\\\n\tU & -1223.0524318 &  137.4724292\\\\\n\tEbert &    -1.3590739 &    2.0951613\\\\\n\tNYFCC &    -2.0744027 &    0.5465515\\\\\n\tLAFCA &    -2.7786220 &    0.9648142\\\\\n\tNSFC &     0.6256588 &    4.6997039\\\\\n\tNBR &    -0.4547082 &    1.8704228\\\\\n\tWR &    -4.6065034 &   16.7861228\\\\\n\\end{tabular}\n",
            "text/plain": [
              "            2.5 %         97.5 %      \n",
              "(Intercept)  -19.1521676   -3.3783552 \n",
              "Nom          -11.2259071   13.5588029 \n",
              "Dir            0.1951741    3.4556821 \n",
              "Aml           -1.7304598    0.7685618 \n",
              "Afl           -1.3743303    1.4815254 \n",
              "Ams           -0.7091538    1.5941985 \n",
              "Afs           -1.5837208    1.0344024 \n",
              "Scr           -0.6814095    2.5619538 \n",
              "Cin           -1.1034298    1.5999448 \n",
              "Art           -2.0432315    1.0460378 \n",
              "Cos           -2.5697306    0.7865150 \n",
              "Sco           -1.1595178    1.3677027 \n",
              "Son           -2.4265221    1.7794131 \n",
              "Edi            0.1183147    2.8861481 \n",
              "Sou           -2.6118286    0.7337176 \n",
              "For           -2.5589568    4.1947824 \n",
              "Eff           -1.3404626    1.8552417 \n",
              "Mak           -0.9543140    3.7020816 \n",
              "Dan           -1.2297742    5.7320177 \n",
              "AD          -677.2048487   57.1096349 \n",
              "Gdr            0.6545473    3.0288638 \n",
              "Gmc           -2.2009027    1.4461079 \n",
              "Gd           -12.3566932   -1.4808744 \n",
              "Gm1           -1.2306467    4.7791717 \n",
              "Gm2           -8.5503303    5.6948927 \n",
              "Gf1           -6.8125738    5.4920029 \n",
              "Gf2         -960.5883712  120.1353412 \n",
              "PGA            3.1038925    6.2791444 \n",
              "DGA           -0.2128176    7.0512983 \n",
              "Action        -2.6896710    1.3732920 \n",
              "⋮           ⋮             ⋮           \n",
              "Crime          -0.1122473    3.0909845\n",
              "Docu                   NA 1297.9237658\n",
              "Drama          -2.8873580    0.4023893\n",
              "Family         -1.0301643    3.5703717\n",
              "Fantasy        -5.8738902    1.0959453\n",
              "Film.noir      -4.9888097    1.8905140\n",
              "History        -0.7258222    2.8943223\n",
              "Horror         -5.2633298    6.0184038\n",
              "Music          -1.0762443    3.5327609\n",
              "Musical        -0.4130511    3.8426487\n",
              "Mystery        -0.6726741    2.8410147\n",
              "Romance        -0.2877822    1.8942212\n",
              "SciFi          -7.5742726    1.2910891\n",
              "Sport          -2.5360883    3.1216148\n",
              "Thriller       -3.0848665    0.4058540\n",
              "War            -0.4426168    2.6639666\n",
              "Western        -3.9023415    1.3464684\n",
              "Length         -3.2064955    3.3900696\n",
              "Days           -0.0199586    6.5129441\n",
              "G              -6.7343749    2.1632915\n",
              "PG             -3.0647262    0.3358689\n",
              "PG13           -3.4369097    0.8151368\n",
              "R              -4.1976577   -0.2813731\n",
              "U           -1223.0524318  137.4724292\n",
              "Ebert          -1.3590739    2.0951613\n",
              "NYFCC          -2.0744027    0.5465515\n",
              "LAFCA          -2.7786220    0.9648142\n",
              "NSFC            0.6256588    4.6997039\n",
              "NBR            -0.4547082    1.8704228\n",
              "WR             -4.6065034   16.7861228"
            ]
          },
          "metadata": {}
        }
      ]
    },
    {
      "cell_type": "markdown",
      "source": [
        "# Calculate VIF"
      ],
      "metadata": {
        "id": "ZCTcetnrA_PS"
      }
    },
    {
      "cell_type": "code",
      "source": [
        "print(round(vif(full_model),4))"
      ],
      "metadata": {
        "id": "pTe9nnqiBDyV",
        "colab": {
          "base_uri": "https://localhost:8080/"
        },
        "outputId": "e3267f43-0eba-4924-8ef6-85e18f9e604c"
      },
      "execution_count": 13,
      "outputs": [
        {
          "output_type": "stream",
          "name": "stdout",
          "text": [
            "      Nom       Dir       Aml       Afl       Ams       Afs       Scr       Cin \n",
            "  42.8236    2.1825    3.3707    3.1583    3.1774    4.5967    2.0898    3.0272 \n",
            "      Art       Cos       Sco       Son       Edi       Sou       For       Eff \n",
            "   3.8267    3.7775    2.8091    2.3226    2.4170    4.4926    1.8186    2.6017 \n",
            "      Mak       Dan        AD       Gdr       Gmc        Gd       Gm1       Gm2 \n",
            "   2.7870    2.0359    1.0000    1.8194    1.9880    2.8053    2.5088    1.0775 \n",
            "      Gf1       Gf2       PGA       DGA    Action Adventure Animation Biography \n",
            "   4.1151    1.0000    3.3387    3.3298    2.1791    1.8872    1.0000    1.5757 \n",
            "   Comedy     Crime      Docu     Drama    Family   Fantasy Film.noir   History \n",
            "   2.1307    2.1207    1.0000    2.5013    2.0385    2.7829    1.2323    1.8961 \n",
            "   Horror     Music   Musical   Mystery   Romance     SciFi     Sport  Thriller \n",
            "   1.1126    1.7410    2.6886    1.7987    1.7610    2.0357    1.5318    1.8610 \n",
            "      War   Western    Length      Days         G        PG      PG13         R \n",
            "   1.8272    1.6657    2.5169    2.0562    1.7007    2.3650    3.5382    4.9798 \n",
            "        U     Ebert     NYFCC     LAFCA      NSFC       NBR        WR \n",
            "   1.0000    4.4095    1.9276    2.9233    3.4654    1.6293    2.3613 \n"
          ]
        }
      ]
    },
    {
      "cell_type": "markdown",
      "source": [
        "Nomination has extremely large VIF so we should remove it"
      ],
      "metadata": {
        "id": "pSz20kwPFewJ"
      }
    },
    {
      "cell_type": "markdown",
      "source": [
        "# Stepwise selection"
      ],
      "metadata": {
        "id": "oxkJlt7j5QWg"
      }
    },
    {
      "cell_type": "code",
      "source": [
        "full_model <- glm(Ch ~ . -Year -Name -Pic -Anf -Nom, data = train_data, family = binomial )\n",
        "\n",
        "# Use back selection\n",
        "backward_model <- step(full_model, direction = \"backward\", trace = 0)\n",
        "\n",
        "# Use forward selection\n",
        "null_model <- glm(Ch ~ 1, data = train_data, family = binomial )\n",
        "forward_model <- step(null_model, scope = list(lower = null_model, upper = full_model), direction = \"forward\", trace = 0)\n",
        "\n",
        "# Use stepwise selection\n",
        "stepwise_model <- stepwise_model <- step(full_model, direction = \"both\", trace = 0)\n",
        "\n",
        "summary(backward_model)\n",
        "summary(forward_model)\n",
        "summary(stepwise_model)"
      ],
      "metadata": {
        "id": "1nkMeo8C4mdu",
        "colab": {
          "base_uri": "https://localhost:8080/",
          "height": 1000
        },
        "outputId": "a1208c90-376d-4a37-8a78-ecae5f712fb4"
      },
      "execution_count": 15,
      "outputs": [
        {
          "output_type": "display_data",
          "data": {
            "text/plain": [
              "\n",
              "Call:\n",
              "glm(formula = Ch ~ Dir + Scr + Edi + Dan + Gdr + Gd + PGA + DGA + \n",
              "    Musical + Romance + SciFi + Days + R + NSFC + WR, family = binomial, \n",
              "    data = train_data)\n",
              "\n",
              "Coefficients:\n",
              "            Estimate Std. Error z value Pr(>|z|)    \n",
              "(Intercept) -14.1482     3.1630  -4.473 7.71e-06 ***\n",
              "Dir           1.3869     0.5614   2.470  0.01350 *  \n",
              "Scr           0.8285     0.5507   1.505  0.13243    \n",
              "Edi           1.1055     0.4445   2.487  0.01287 *  \n",
              "Dan           2.4480     1.4805   1.653  0.09824 .  \n",
              "Gdr           1.5094     0.4769   3.165  0.00155 ** \n",
              "Gd           -4.4912     1.8544  -2.422  0.01544 *  \n",
              "PGA           3.2979     0.4959   6.650 2.92e-11 ***\n",
              "DGA           2.6952     1.2724   2.118  0.03417 *  \n",
              "Musical       1.5835     0.7441   2.128  0.03332 *  \n",
              "Romance       0.8458     0.4323   1.956  0.05042 .  \n",
              "SciFi        -2.6457     1.6126  -1.641  0.10086    \n",
              "Days          3.1308     1.1613   2.696  0.00702 ** \n",
              "R            -0.7827     0.4715  -1.660  0.09695 .  \n",
              "NSFC          1.5592     0.5871   2.656  0.00792 ** \n",
              "WR            9.9812     3.9107   2.552  0.01070 *  \n",
              "---\n",
              "Signif. codes:  0 ‘***’ 0.001 ‘**’ 0.01 ‘*’ 0.05 ‘.’ 0.1 ‘ ’ 1\n",
              "\n",
              "(Dispersion parameter for binomial family taken to be 1)\n",
              "\n",
              "    Null deviance: 407.10  on 483  degrees of freedom\n",
              "Residual deviance: 202.18  on 468  degrees of freedom\n",
              "AIC: 234.18\n",
              "\n",
              "Number of Fisher Scoring iterations: 7\n"
            ]
          },
          "metadata": {}
        },
        {
          "output_type": "display_data",
          "data": {
            "text/plain": [
              "\n",
              "Call:\n",
              "glm(formula = Ch ~ PGA + Dir + Edi + Dan + Gdr + Days + NSFC + \n",
              "    SciFi + Gd + DGA + Romance + WR + Musical + R + Scr, family = binomial, \n",
              "    data = train_data)\n",
              "\n",
              "Coefficients:\n",
              "            Estimate Std. Error z value Pr(>|z|)    \n",
              "(Intercept) -14.1482     3.1630  -4.473 7.71e-06 ***\n",
              "PGA           3.2979     0.4959   6.650 2.92e-11 ***\n",
              "Dir           1.3869     0.5614   2.470  0.01350 *  \n",
              "Edi           1.1055     0.4445   2.487  0.01287 *  \n",
              "Dan           2.4480     1.4805   1.653  0.09824 .  \n",
              "Gdr           1.5094     0.4769   3.165  0.00155 ** \n",
              "Days          3.1308     1.1613   2.696  0.00702 ** \n",
              "NSFC          1.5592     0.5871   2.656  0.00792 ** \n",
              "SciFi        -2.6457     1.6126  -1.641  0.10086    \n",
              "Gd           -4.4912     1.8544  -2.422  0.01544 *  \n",
              "DGA           2.6952     1.2724   2.118  0.03417 *  \n",
              "Romance       0.8458     0.4323   1.956  0.05042 .  \n",
              "WR            9.9812     3.9107   2.552  0.01070 *  \n",
              "Musical       1.5835     0.7441   2.128  0.03332 *  \n",
              "R            -0.7827     0.4715  -1.660  0.09695 .  \n",
              "Scr           0.8285     0.5507   1.505  0.13243    \n",
              "---\n",
              "Signif. codes:  0 ‘***’ 0.001 ‘**’ 0.01 ‘*’ 0.05 ‘.’ 0.1 ‘ ’ 1\n",
              "\n",
              "(Dispersion parameter for binomial family taken to be 1)\n",
              "\n",
              "    Null deviance: 407.10  on 483  degrees of freedom\n",
              "Residual deviance: 202.18  on 468  degrees of freedom\n",
              "AIC: 234.18\n",
              "\n",
              "Number of Fisher Scoring iterations: 7\n"
            ]
          },
          "metadata": {}
        },
        {
          "output_type": "display_data",
          "data": {
            "text/plain": [
              "\n",
              "Call:\n",
              "glm(formula = Ch ~ Dir + Scr + Edi + Dan + Gdr + Gd + PGA + DGA + \n",
              "    Musical + Romance + SciFi + Days + R + NSFC + WR, family = binomial, \n",
              "    data = train_data)\n",
              "\n",
              "Coefficients:\n",
              "            Estimate Std. Error z value Pr(>|z|)    \n",
              "(Intercept) -14.1482     3.1630  -4.473 7.71e-06 ***\n",
              "Dir           1.3869     0.5614   2.470  0.01350 *  \n",
              "Scr           0.8285     0.5507   1.505  0.13243    \n",
              "Edi           1.1055     0.4445   2.487  0.01287 *  \n",
              "Dan           2.4480     1.4805   1.653  0.09824 .  \n",
              "Gdr           1.5094     0.4769   3.165  0.00155 ** \n",
              "Gd           -4.4912     1.8544  -2.422  0.01544 *  \n",
              "PGA           3.2979     0.4959   6.650 2.92e-11 ***\n",
              "DGA           2.6952     1.2724   2.118  0.03417 *  \n",
              "Musical       1.5835     0.7441   2.128  0.03332 *  \n",
              "Romance       0.8458     0.4323   1.956  0.05042 .  \n",
              "SciFi        -2.6457     1.6126  -1.641  0.10086    \n",
              "Days          3.1308     1.1613   2.696  0.00702 ** \n",
              "R            -0.7827     0.4715  -1.660  0.09695 .  \n",
              "NSFC          1.5592     0.5871   2.656  0.00792 ** \n",
              "WR            9.9812     3.9107   2.552  0.01070 *  \n",
              "---\n",
              "Signif. codes:  0 ‘***’ 0.001 ‘**’ 0.01 ‘*’ 0.05 ‘.’ 0.1 ‘ ’ 1\n",
              "\n",
              "(Dispersion parameter for binomial family taken to be 1)\n",
              "\n",
              "    Null deviance: 407.10  on 483  degrees of freedom\n",
              "Residual deviance: 202.18  on 468  degrees of freedom\n",
              "AIC: 234.18\n",
              "\n",
              "Number of Fisher Scoring iterations: 7\n"
            ]
          },
          "metadata": {}
        }
      ]
    },
    {
      "cell_type": "markdown",
      "source": [
        "All have equal AIC so pick any of the models"
      ],
      "metadata": {
        "id": "e0XPjfg4GLCk"
      }
    },
    {
      "cell_type": "markdown",
      "source": [
        "# K-fold cross validation (FIX: embed feature selection into cv loop)"
      ],
      "metadata": {
        "id": "9mZsFn9QztqF"
      }
    },
    {
      "cell_type": "code",
      "source": [
        "# Get predictor names from the stepwise model (excluding the intercept)\n",
        "selected_features <- names(stepwise_model$coefficients)[-1]\n",
        "\n",
        "# Only include selected predictors in the training data\n",
        "train_data_selected <- train_data[, c(\"Ch\", selected_features)]\n",
        "\n",
        "# Set up cross-validation\n",
        "train_control <- trainControl(method = \"cv\", number = 10, summaryFunction = defaultSummary)\n",
        "\n",
        "# Fit the model using cross-validation\n",
        "cv_model <- train(Ch ~ .,\n",
        "                  data = train_data_selected,\n",
        "                  method = \"glm\",\n",
        "                  family = \"binomial\",\n",
        "                  trControl = train_control)\n",
        "\n",
        "# Calculate PMSE (Average PMSE across folds)\n",
        "pmse <- cv_model$results$RMSE^2"
      ],
      "metadata": {
        "colab": {
          "base_uri": "https://localhost:8080/"
        },
        "id": "EvJYzov-z3pQ",
        "outputId": "bb09bc73-d8f7-49c8-fed2-85e24efa516a"
      },
      "execution_count": 33,
      "outputs": [
        {
          "output_type": "stream",
          "name": "stderr",
          "text": [
            "Warning message:\n",
            "“glm.fit: fitted probabilities numerically 0 or 1 occurred”\n",
            "Warning message:\n",
            "“glm.fit: fitted probabilities numerically 0 or 1 occurred”\n"
          ]
        }
      ]
    },
    {
      "cell_type": "markdown",
      "source": [
        "# Calculate AUC and sensitivity of final model"
      ],
      "metadata": {
        "id": "cIaeo0Yo7mqK"
      }
    },
    {
      "cell_type": "code",
      "source": [
        "# Predict probabilities\n",
        "predicted_probabilities_test <- predict(stepwise_model, type=\"response\", newdata=test_data)\n",
        "predicted_probabilities_train <- predict(stepwise_model, type=\"response\", newdata=train_data)\n",
        "\n",
        "# ROC curve\n",
        "roc_curve_test = roc(test_data$Ch, predicted_probabilities_test)\n",
        "roc_curve_train = roc(train_data$Ch, predicted_probabilities_train)\n",
        "\n",
        "# Output AUC\n",
        "print(roc_curve)\n",
        "print(paste(\"AUC(test): \", auc(roc_curve_test)))\n",
        "print(paste(\"AUC(train): \", auc(roc_curve_train)))"
      ],
      "metadata": {
        "id": "nKhFCIIK7oBA",
        "colab": {
          "base_uri": "https://localhost:8080/"
        },
        "outputId": "ad2b16a1-402d-419a-9556-6b340f97de22"
      },
      "execution_count": 34,
      "outputs": [
        {
          "output_type": "stream",
          "name": "stderr",
          "text": [
            "Setting levels: control = 0, case = 1\n",
            "\n",
            "Setting direction: controls < cases\n",
            "\n",
            "Setting levels: control = 0, case = 1\n",
            "\n",
            "Setting direction: controls < cases\n",
            "\n"
          ]
        },
        {
          "output_type": "stream",
          "name": "stdout",
          "text": [
            "\n",
            "Call:\n",
            "roc.default(response = test_data$Ch, predictor = predicted_probabilities)\n",
            "\n",
            "Data: predicted_probabilities in 96 controls (test_data$Ch 0) < 24 cases (test_data$Ch 1).\n",
            "Area under the curve: 0.8446\n",
            "[1] \"AUC(test):  0.844618055555556\"\n",
            "[1] \"AUC(train):  0.941477885652643\"\n"
          ]
        }
      ]
    },
    {
      "cell_type": "markdown",
      "source": [
        "# AUC of cv model"
      ],
      "metadata": {
        "id": "cYSTpVAoz8ha"
      }
    },
    {
      "cell_type": "code",
      "source": [
        "# Predict probabilities\n",
        "predicted_probabilities_test_cv <- predict(cv_model, newdata = test_data[, selected_features], type = \"prob\")[, 2]\n",
        "predicted_probabilities_train_cv <- predict(cv_model, newdata = train_data[, selected_features], type = \"prob\")[, 2]\n",
        "\n",
        "# ROC curve\n",
        "roc_curve_test_cv <- roc(test_data$Ch, predicted_probabilities_test_cv)\n",
        "roc_curve_train_cv <- roc(train_data$Ch, predicted_probabilities_train_cv)\n",
        "\n",
        "# Output AUC\n",
        "print(paste(\"AUC(test): \", auc(roc_curve_test)))\n",
        "print(paste(\"AUC(train): \", auc(roc_curve_train)))"
      ],
      "metadata": {
        "colab": {
          "base_uri": "https://localhost:8080/"
        },
        "id": "r0WlQ8MXz_3M",
        "outputId": "958b15d7-3000-4302-e638-b15f982a2647"
      },
      "execution_count": 35,
      "outputs": [
        {
          "output_type": "stream",
          "name": "stderr",
          "text": [
            "Setting levels: control = 0, case = 1\n",
            "\n",
            "Setting direction: controls < cases\n",
            "\n",
            "Setting levels: control = 0, case = 1\n",
            "\n",
            "Setting direction: controls < cases\n",
            "\n"
          ]
        },
        {
          "output_type": "stream",
          "name": "stdout",
          "text": [
            "[1] \"AUC(test):  0.844618055555556\"\n",
            "[1] \"AUC(train):  0.941477885652643\"\n"
          ]
        }
      ]
    }
  ]
}